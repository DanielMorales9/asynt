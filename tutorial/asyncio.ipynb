{
 "cells": [
  {
   "cell_type": "markdown",
   "metadata": {
    "slideshow": {
     "slide_type": "slide"
    }
   },
   "source": [
    "# An introduction to Asyncio\n",
    "In this tutorial we will learn the basics of asyncio.     \n",
    "Hopefully, we will be able to build a distributed task executor."
   ]
  },
  {
   "cell_type": "markdown",
   "metadata": {
    "slideshow": {
     "slide_type": "slide"
    }
   },
   "source": [
    "## What is Asyncio?\n",
    "According to the docs:\n",
    "\n",
    "> asyncio is a library to write concurrent code using the async/await syntax.\n",
    "\n",
    "> asyncio is often a perfect fit for IO-bound and high-level structured \n",
    " network code."
   ]
  },
  {
   "cell_type": "markdown",
   "metadata": {
    "slideshow": {
     "slide_type": "slide"
    }
   },
   "source": [
    "## Outline\n",
    "\n",
    "- Why Asyncio?\n",
    "- A detour in the Coroutine world\n",
    "- Asyncio Coroutine, Future, Task\n",
    "- The select module\n",
    "- Transport and Protocols\n",
    "- Putting it all together"
   ]
  },
  {
   "cell_type": "markdown",
   "metadata": {
    "pycharm": {
     "name": "#%% md\n"
    },
    "slideshow": {
     "slide_type": "slide"
    }
   },
   "source": [
    "# Why do we need Asyncio?\n",
    "- I/O is really slow\n",
    "- SSD latency time is ~1ms, 1Ghz Core >> 1Mln CPU wasted cycles at second "
   ]
  },
  {
   "cell_type": "markdown",
   "metadata": {
    "slideshow": {
     "slide_type": "slide"
    }
   },
   "source": [
    "## Asyncio vs Threads\n",
    "1. Asyncio is typically single-threaded\n",
    "2. You don't have to worry about synchronisation (Locks, Semaphores, Queues)\n",
    "3. Application controls the context switching\n",
    "    -  In a multi-threaded program the context switching is controlled by the OS\n",
    "4. Asyncio for I/O-bound tasks, Threads for CPU-bound tasks"
   ]
  },
  {
   "cell_type": "markdown",
   "metadata": {
    "slideshow": {
     "slide_type": "slide"
    }
   },
   "source": [
    "# How can we do concurrency without threads?\n",
    "> You don't need threads to have concurrency   \n",
    "\n",
    "> You don't need multi-core to have concurrency\n",
    "\n",
    "> You don't need a fast CPU to have concurrency"
   ]
  },
  {
   "cell_type": "markdown",
   "metadata": {
    "slideshow": {
     "slide_type": "slide"
    }
   },
   "source": [
    "## Time Slicing or Sharing\n",
    "\n",
    "You do a little bit of work for one task, you switch and\n",
    " you do a little piece of work for a different task (time-slicing).    \n",
    "The OS takes the control of the CPU and gives a different task the access to it.\n",
    "\n",
    "You do that for a lot of times every seconds and it looks like the tasks are all running concurrently."
   ]
  },
  {
   "cell_type": "code",
   "execution_count": 74,
   "metadata": {
    "pycharm": {
     "name": "#%% m\n"
    },
    "slideshow": {
     "slide_type": "slide"
    }
   },
   "outputs": [
    {
     "name": "stdout",
     "output_type": "stream",
     "text": [
      "Hi, who are you?\n",
      "Hi, I am Pluto\n",
      "Nice to meet you.\n",
      "What's your name?\n",
      "I am Pippo\n"
     ]
    }
   ],
   "source": [
    "def pippo():\n",
    "    yield \"Hi, who are you?\"\n",
    "    yield \"Nice to meet you.\"\n",
    "    yield \"I am Pippo\"\n",
    "\n",
    "def pluto():\n",
    "    yield \"Hi, I am Pluto\"\n",
    "    yield \"What's your name?\"\n",
    "\n",
    "loop = [pippo(), pluto()]\n",
    "while loop:\n",
    "    el = loop.pop(0)\n",
    "    try:\n",
    "        print(next(el))\n",
    "        loop.append(el)\n",
    "    except StopIteration:\n",
    "        pass\n",
    " "
   ]
  },
  {
   "cell_type": "code",
   "execution_count": 75,
   "metadata": {
    "pycharm": {
     "name": "#%% m\n"
    },
    "slideshow": {
     "slide_type": "slide"
    }
   },
   "outputs": [
    {
     "name": "stdout",
     "output_type": "stream",
     "text": [
      "Hi, who are you?\n",
      "Hi, I am Pluto\n",
      "Nice to meet you.\n",
      "What's your name?\n",
      "I am Pippo\n"
     ]
    }
   ],
   "source": [
    "# Generators are bi-directional (Coroutines)\n",
    "\n",
    "loop = [pippo(), pluto()]\n",
    "while loop:\n",
    "    el = loop.pop(0)\n",
    "    try:\n",
    "        print(el.send(None))\n",
    "        loop.append(el)\n",
    "    except StopIteration:\n",
    "        pass"
   ]
  },
  {
   "cell_type": "markdown",
   "metadata": {
    "pycharm": {
     "name": "#%% md\n"
    },
    "slideshow": {
     "slide_type": "slide"
    }
   },
   "source": [
    "# What have we got here?\n",
    "- Two generators running sort of concurrently\n",
    "- Application defined context switch points \n",
    "- A loop to dispatch them"
   ]
  },
  {
   "cell_type": "markdown",
   "metadata": {
    "pycharm": {
     "name": "#%% md\n"
    },
    "slideshow": {
     "slide_type": "slide"
    }
   },
   "source": [
    "# Coroutines Detour\n",
    "- In Python 2.5 generators picked up some new features to allow coroutines\n",
    "- Essentially a new `send` method"
   ]
  },
  {
   "cell_type": "markdown",
   "metadata": {
    "pycharm": {
     "name": "#%% md\n"
    },
    "slideshow": {
     "slide_type": "slide"
    }
   },
   "source": [
    "## Generators \n",
    "A generator is a function that produces a sequence of results instead of a\n",
    " single value\n",
    " "
   ]
  },
  {
   "cell_type": "code",
   "execution_count": 76,
   "metadata": {
    "pycharm": {
     "name": "#%% m\n"
    },
    "slideshow": {
     "slide_type": "slide"
    }
   },
   "outputs": [
    {
     "name": "stdout",
     "output_type": "stream",
     "text": [
      "5\n",
      "4\n",
      "3\n",
      "2\n",
      "1\n"
     ]
    }
   ],
   "source": [
    "def countdown(n):\n",
    "    while n > 0:\n",
    "        yield n\n",
    "        n -= 1\n",
    "\n",
    "for i in countdown(5):\n",
    "    print(i)"
   ]
  },
  {
   "cell_type": "code",
   "execution_count": 77,
   "metadata": {
    "pycharm": {
     "name": "#%% m \n"
    },
    "slideshow": {
     "slide_type": "slide"
    }
   },
   "outputs": [
    {
     "name": "stdout",
     "output_type": "stream",
     "text": [
      "<generator object countdown at 0x10e3b5750>\n",
      "3\n",
      "2\n",
      "1\n"
     ]
    },
    {
     "ename": "StopIteration",
     "evalue": "",
     "output_type": "error",
     "traceback": [
      "\u001b[0;31m---------------------------------------------------------------------------\u001b[0m",
      "\u001b[0;31mStopIteration\u001b[0m                             Traceback (most recent call last)",
      "\u001b[0;32m<ipython-input-77-d8188cd75a26>\u001b[0m in \u001b[0;36m<module>\u001b[0;34m\u001b[0m\n\u001b[1;32m      4\u001b[0m \u001b[0mprint\u001b[0m\u001b[0;34m(\u001b[0m\u001b[0mnext\u001b[0m\u001b[0;34m(\u001b[0m\u001b[0mx\u001b[0m\u001b[0;34m)\u001b[0m\u001b[0;34m)\u001b[0m\u001b[0;34m\u001b[0m\u001b[0;34m\u001b[0m\u001b[0m\n\u001b[1;32m      5\u001b[0m \u001b[0mprint\u001b[0m\u001b[0;34m(\u001b[0m\u001b[0mnext\u001b[0m\u001b[0;34m(\u001b[0m\u001b[0mx\u001b[0m\u001b[0;34m)\u001b[0m\u001b[0;34m)\u001b[0m\u001b[0;34m\u001b[0m\u001b[0;34m\u001b[0m\u001b[0m\n\u001b[0;32m----> 6\u001b[0;31m \u001b[0mprint\u001b[0m\u001b[0;34m(\u001b[0m\u001b[0mnext\u001b[0m\u001b[0;34m(\u001b[0m\u001b[0mx\u001b[0m\u001b[0;34m)\u001b[0m\u001b[0;34m)\u001b[0m\u001b[0;34m\u001b[0m\u001b[0;34m\u001b[0m\u001b[0m\n\u001b[0m",
      "\u001b[0;31mStopIteration\u001b[0m: "
     ]
    }
   ],
   "source": [
    "x = countdown(3)\n",
    "print(x)\n",
    "print(next(x))\n",
    "print(next(x))\n",
    "print(next(x))\n",
    "print(next(x))"
   ]
  },
  {
   "cell_type": "markdown",
   "metadata": {
    "pycharm": {
     "name": "#%% md\n"
    },
    "slideshow": {
     "slide_type": "slide"
    }
   },
   "source": [
    "## Generators as pipeline\n",
    "We know how to use generators to build pipelines.   \n",
    "We just need to pass each generator to the next generator. "
   ]
  },
  {
   "cell_type": "code",
   "execution_count": 82,
   "metadata": {
    "pycharm": {
     "name": "#%% m\n"
    },
    "slideshow": {
     "slide_type": "slide"
    }
   },
   "outputs": [
    {
     "name": "stdout",
     "output_type": "stream",
     "text": [
      "2\n",
      "6\n",
      "10\n",
      "14\n",
      "18\n"
     ]
    }
   ],
   "source": [
    "def odd(prev):\n",
    "    for el in prev:\n",
    "        if el % 2 == 1:\n",
    "            yield el\n",
    "            \n",
    "def mul(prev, factor):\n",
    "    for el in prev:\n",
    "        yield el * factor\n",
    "        \n",
    "a = odd(range(10))\n",
    "b = mul(a, 2)\n",
    "\n",
    "for line in b:\n",
    "    print(line)"
   ]
  },
  {
   "cell_type": "markdown",
   "metadata": {
    "pycharm": {
     "name": "#%% md\n"
    },
    "slideshow": {
     "slide_type": "slide"
    }
   },
   "source": [
    "## Yield as an Expression\n",
    "In Python 2.5, a slight modification to the yield statement was introduced\n",
    " (PEP-342). You can now use the yield statement as an expression."
   ]
  },
  {
   "cell_type": "code",
   "execution_count": 83,
   "metadata": {
    "pycharm": {
     "name": "#%% m\n"
    },
    "slideshow": {
     "slide_type": "slide"
    }
   },
   "outputs": [
    {
     "name": "stdout",
     "output_type": "stream",
     "text": [
      "2\n",
      "6\n",
      "10\n",
      "14\n",
      "18\n"
     ]
    }
   ],
   "source": [
    "def odd(nextcoro):\n",
    "    while True:\n",
    "        num = (yield)\n",
    "        if num % 2 == 1:\n",
    "            nextcoro.send(num)\n",
    "\n",
    "def mul(factor, nextcoro):\n",
    "    while True:\n",
    "        num = (yield)\n",
    "        nextcoro.send(num * factor)\n",
    "\n",
    "def printer():\n",
    "    while True:\n",
    "        num = (yield)\n",
    "        print(num)\n",
    "\n",
    "p = printer()\n",
    "m = mul(2, p)\n",
    "o = odd(m)\n",
    "# coroutines needs to be \"primed\" first calling next() or send(None)\n",
    "# just write your own decorator not to forget to prime your @coroutine\n",
    "p.send(None)\n",
    "m.send(None)\n",
    "o.send(None)\n",
    "\n",
    "for i in range(10):\n",
    "    o.send(i)"
   ]
  },
  {
   "cell_type": "markdown",
   "metadata": {
    "slideshow": {
     "slide_type": "slide"
    }
   },
   "source": [
    "- You can also `close()` which can be caught with `GeneratorExit` exception\n",
    "- You can also `throw()` exceptions inside the coroutine\n",
    "- It is easier to broadcast results to several coroutines if not even\n",
    " more complex branching when designing pipelines "
   ]
  },
  {
   "cell_type": "markdown",
   "metadata": {
    "slideshow": {
     "slide_type": "slide"
    }
   },
   "source": [
    "## Generator vs Coroutine \n",
    "- Generators produce data for iteration\n",
    "- Coroutines are consumers of data\n",
    "- ... But it's python, which means you can have a generator consuming data\n",
    " as a coroutine.   "
   ]
  },
  {
   "cell_type": "code",
   "execution_count": 84,
   "metadata": {
    "pycharm": {
     "name": "#%% m\n"
    },
    "slideshow": {
     "slide_type": "slide"
    }
   },
   "outputs": [
    {
     "name": "stdout",
     "output_type": "stream",
     "text": [
      "5\n",
      "2\n",
      "1\n",
      "0\n"
     ]
    }
   ],
   "source": [
    "def countdown(n):\n",
    "    while n >= 0:\n",
    "        new_value = (yield n)\n",
    "        if new_value is not None:\n",
    "            n = new_value\n",
    "        else:\n",
    "            n -= 1\n",
    "\n",
    "c = countdown(5)\n",
    "for n in c:\n",
    "    print(n)\n",
    "    if n == 5:\n",
    "        c.send(3)"
   ]
  },
  {
   "cell_type": "markdown",
   "metadata": {
    "slideshow": {
     "slide_type": "slide"
    }
   },
   "source": [
    "In asyncio the generators are called coroutines   \n",
    "The loop that executes them is the event loop"
   ]
  },
  {
   "cell_type": "markdown",
   "metadata": {
    "slideshow": {
     "slide_type": "slide"
    }
   },
   "source": [
    "# Future\n",
    "A future is an indirect reference to a forthcoming result   \n",
    "You can ask the future to `callback` when ready"
   ]
  },
  {
   "cell_type": "code",
   "execution_count": 85,
   "metadata": {
    "pycharm": {
     "name": "#%% m\n"
    },
    "slideshow": {
     "slide_type": "slide"
    }
   },
   "outputs": [
    {
     "name": "stdout",
     "output_type": "stream",
     "text": [
      "Hi, who are you?\n",
      "Hi, I am Pluto\n",
      "Nice to meet you.\n"
     ]
    }
   ],
   "source": [
    "import asyncio\n",
    "\n",
    "def pippo(when_pluto_is_done):\n",
    "    print(\"Hi, who are you?\")\n",
    "\n",
    "    def nice_to_meet_you(ret):\n",
    "        print(\"Nice to meet you.\")\n",
    "    \n",
    "    when_pluto_is_done.add_done_callback(nice_to_meet_you)\n",
    "\n",
    "\n",
    "def pluto(when_pippo_is_done):\n",
    "    print(\"Hi, I am Pluto\")\n",
    "    \n",
    "    when_pippo_is_done.set_result(None)\n",
    "\n",
    "\n",
    "loop = asyncio.get_event_loop()\n",
    "future = loop.create_future()\n",
    "\n",
    "pippo(future)\n",
    "pluto(future)\n",
    "\n",
    "await future"
   ]
  },
  {
   "cell_type": "markdown",
   "metadata": {
    "pycharm": {
     "name": "#%% md\n"
    },
    "slideshow": {
     "slide_type": "slide"
    }
   },
   "source": [
    "# Callbacks\n",
    "- Callbacks aren't the nicest way to do things\n",
    "- Wouldn't it be great to write the code inline like before?"
   ]
  },
  {
   "cell_type": "markdown",
   "metadata": {
    "pycharm": {
     "name": "#%% md\n"
    },
    "slideshow": {
     "slide_type": "slide"
    }
   },
   "source": [
    "# Asyncio Coroutines \n",
    "Coroutines are declared with async/await syntax is the preferred \n",
    "way of writing asyncio applications  "
   ]
  },
  {
   "cell_type": "markdown",
   "metadata": {
    "slideshow": {
     "slide_type": "slide"
    }
   },
   "source": [
    "The await is a fancy way of doing the yield.  \n",
    "\n",
    "Essentially, the event loop is going to handle callbacks for us    \n",
    "and allows us to write our code in a nice clean logical way    "
   ]
  },
  {
   "cell_type": "code",
   "execution_count": 87,
   "metadata": {
    "pycharm": {
     "is_executing": false
    },
    "slideshow": {
     "slide_type": "slide"
    }
   },
   "outputs": [
    {
     "name": "stdout",
     "output_type": "stream",
     "text": [
      "started at 23:59:14\n",
      "hello\n",
      "world\n",
      "finished at 23:59:17\n"
     ]
    }
   ],
   "source": [
    "# Three way to run a coroutine:\n",
    "# - The asyncio.run() function to run the top-level entry point \"main()\" function\n",
    "# - Awaiting on a coroutine.\n",
    "\n",
    "import time\n",
    "\n",
    "async def say_after(delay, what):\n",
    "    await asyncio.sleep(delay)\n",
    "    print(what)\n",
    "\n",
    "async def main():\n",
    "    print(f\"started at {time.strftime('%X')}\")\n",
    "\n",
    "    await say_after(1, 'hello')\n",
    "    await say_after(2, 'world')\n",
    "\n",
    "    print(f\"finished at {time.strftime('%X')}\")\n",
    "\n",
    "await main()"
   ]
  },
  {
   "cell_type": "markdown",
   "metadata": {
    "slideshow": {
     "slide_type": "slide"
    }
   },
   "source": [
    "## Tasks\n",
    "- A task executes a coroutine in an event loop \n",
    "- At each step the coroutine either\n",
    "    - awaits a future\n",
    "    - awaits another coroutine\n",
    "    - returns a result"
   ]
  },
  {
   "cell_type": "code",
   "execution_count": 88,
   "metadata": {
    "pycharm": {
     "is_executing": false
    },
    "slideshow": {
     "slide_type": "slide"
    }
   },
   "outputs": [
    {
     "name": "stdout",
     "output_type": "stream",
     "text": [
      "started at 23:59:43\n",
      "hello\n",
      "world\n",
      "finished at 23:59:45\n"
     ]
    }
   ],
   "source": [
    "# The asyncio.create_task() function to run coroutines \n",
    "# concurrently as asyncio Tasks.\n",
    "async def main():\n",
    "    task1 = asyncio.create_task(\n",
    "        say_after(1, 'hello'))\n",
    "\n",
    "    task2 = asyncio.create_task(\n",
    "        say_after(2, 'world'))\n",
    "\n",
    "    print(f\"started at {time.strftime('%X')}\")\n",
    "\n",
    "    # Wait until both tasks are completed (should take\n",
    "    # around 2 seconds.)\n",
    "    await task1\n",
    "    await task2\n",
    "\n",
    "    print(f\"finished at {time.strftime('%X')}\")\n",
    "    \n",
    "await main()"
   ]
  },
  {
   "cell_type": "markdown",
   "metadata": {
    "slideshow": {
     "slide_type": "slide"
    }
   },
   "source": [
    "## Select Module\n",
    "- select is an OS function to wait for I/O\n",
    "- it tells you which I/O channels are ready\n",
    "- I/O channels can be files, sockets or pipes\n",
    "- It can wait a fixed length of time or indefinitely\n",
    "\n",
    "The event loop use this select method to figure out when I/O is ready and do\n",
    " something with it."
   ]
  },
  {
   "cell_type": "markdown",
   "metadata": {
    "slideshow": {
     "slide_type": "slide"
    }
   },
   "source": [
    "# Asyncio Transport\n",
    "- Transports are communication channels\n",
    "- Responsible for performing I/O \n",
    "- Several types: TCP, UDP, SSL, Pipes"
   ]
  },
  {
   "cell_type": "markdown",
   "metadata": {
    "slideshow": {
     "slide_type": "slide"
    }
   },
   "source": [
    "# Streaming Transport\n",
    "For example TCP    \n",
    "The API includes methods such as:\n",
    "- close, write, pause/resume reading\n",
    "\n",
    "Note: no read method\n",
    "- instead you get a callback (you do not want to block your code execution)"
   ]
  },
  {
   "cell_type": "markdown",
   "metadata": {
    "pycharm": {
     "name": "#%% md\n"
    },
    "slideshow": {
     "slide_type": "slide"
    }
   },
   "source": [
    "- You don't create transports directly\n",
    "- Instead the event loop supplies methods \n",
    "- For example:\n",
    "    - `create_connection`\n",
    "    - `create_server`\n",
    "- Each takes a protocol factory as its first argument"
   ]
  },
  {
   "cell_type": "markdown",
   "metadata": {
    "slideshow": {
     "slide_type": "slide"
    }
   },
   "source": [
    "# Asyncio Protocols\n",
    "What the Transport only does it sends data from a point to another.    \n",
    "To interpret the data you need a protocol.\n",
    "\n",
    "- Asyncio protocols process received data and ask the transport to send data\n",
    "- Your application will create subclasses of a protocol to define how to behave in case of received data."
   ]
  },
  {
   "cell_type": "markdown",
   "metadata": {
    "slideshow": {
     "slide_type": "slide"
    }
   },
   "source": [
    "# Putting all together"
   ]
  },
  {
   "cell_type": "markdown",
   "metadata": {
    "pycharm": {
     "name": "#%% md\n"
    },
    "slideshow": {
     "slide_type": "slide"
    }
   },
   "source": [
    "## References\n",
    "- [Coroutines](http://dabeaz.com/coroutines/Coroutines.pdf)\n",
    "- [Youtube Video of Coroutines](https://www.youtube.com/watch?v=Z_OAlIhXziw)\n",
    "- [PEP-342](https://www.python.org/dev/peps/pep-0342/)"
   ]
  }
 ],
 "metadata": {
  "celltoolbar": "Slideshow",
  "kernelspec": {
   "display_name": "Python 3",
   "language": "python",
   "name": "python3"
  },
  "language_info": {
   "codemirror_mode": {
    "name": "ipython",
    "version": 3
   },
   "file_extension": ".py",
   "mimetype": "text/x-python",
   "name": "python",
   "nbconvert_exporter": "python",
   "pygments_lexer": "ipython3",
   "version": "3.7.5"
  },
  "pycharm": {
   "stem_cell": {
    "cell_type": "raw",
    "metadata": {
     "collapsed": false
    },
    "source": []
   }
  }
 },
 "nbformat": 4,
 "nbformat_minor": 2
}
